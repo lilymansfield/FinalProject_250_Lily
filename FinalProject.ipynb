{
 "cells": [
  {
   "cell_type": "markdown",
   "metadata": {},
   "source": [
    "I have a 2D matrix of molecules for a simplified water droplet model. I will assume the molecules are evaporating from the outer circle inwards. A molecule needs to absorb enough energy to overcome vapor pressure and break its hydrogen bonds to then escape into the surrounding air as a gas. I am going to ignore vapor pressure for the moment and just focus on hydrogen bonds. At the beginning of the simulation I will have to input a temperature. I will then iterate through the molecules around the edge of my matrix randomly. I will assume the Maxwell-Boltzmann distribution applies. I will use this distribution to obtain a velocity for my molecule. I will use this velocity to calculate the kinetic energy of my molecule. If the kinetic energy is bigger than the hydrogen bond energy, the molecule breaks free and I remove it from my matrix.\n",
    "\n",
    " \n",
    "\n",
    "Pseudocode:\n",
    "\n",
    "-       Input temperature\n",
    "\n",
    "-       Create matrix NxN filled with 1s (to represent a present molecule, 0 for evaporated)\n",
    "\n",
    "-       Generate random number to select a cell around the edge\n",
    "\n",
    "-       Obtain the velocity of this molecule\n",
    "\n",
    "o   Generate a random number from a uniform distribution and use the inverse of the CDF of the Maxwell-Boltzmann distribution to obtain a velocity\n",
    "\n",
    "-       Calculate the kinetic energy of the molecule (1/2 m v^2)\n",
    "\n",
    "-       If (kinetic energy)>(hydrogen bond energy)\n",
    "\n",
    "o   Molecule evaporates\n",
    "\n",
    "o   Sent cell =0\n",
    "\n",
    "-       Else run again\n",
    "\n",
    " \n",
    "\n",
    " \n",
    "\n",
    "As molecules evaporate this will cause the remaining water molecules to decrease in temperature. I have not made this part of my model. I will do more research into this to see if I could incorporate it into the model as well. I will also look into including vapor pressure. "
   ]
  },
  {
   "cell_type": "code",
   "execution_count": 3,
   "metadata": {},
   "outputs": [],
   "source": [
    "import numpy as np\n",
    "import random\n",
    "import matplotlib.pyplot as plt"
   ]
  },
  {
   "cell_type": "code",
   "execution_count": 4,
   "metadata": {},
   "outputs": [],
   "source": [
    "#Creates a matrix of 1's to represent water molecules\n",
    "def createDroplet(N):\n",
    "    return np.full((N,N),1) #Creating the water droplet matrix\n",
    "\n"
   ]
  },
  {
   "cell_type": "code",
   "execution_count": 5,
   "metadata": {},
   "outputs": [],
   "source": [
    "#Returns coordinates for a random molecule in the matrix\n",
    "def randomMolecule(droplet):\n",
    "    N,M=np.shape(droplet)\n",
    "\n",
    "    i=random.randint(0,N-1)\n",
    "    j=random.randint(0,M-1)\n",
    "    return i,j"
   ]
  },
  {
   "cell_type": "code",
   "execution_count": 6,
   "metadata": {},
   "outputs": [],
   "source": [
    "def maxwellBoltzmannDistribution(x, T):\n",
    "    \n",
    "    k=1.380649*10**(-23) #Boltzmann constant\n",
    "    m=2.9915*10**(-23)*10**(-3) #mass of a water molecule in kg\n",
    "    return np.sqrt(2/np.pi)*(m/(k*T))**(3/2)*x**2*np.exp(-m*x**2/(2*k*T))"
   ]
  },
  {
   "cell_type": "code",
   "execution_count": 7,
   "metadata": {},
   "outputs": [
    {
     "name": "stdout",
     "output_type": "stream",
     "text": [
      "539.6086398054305\n"
     ]
    }
   ],
   "source": [
    "def getMoleculeVelocity(T):\n",
    "    \n",
    "    #Rejection Method for selecting a random number according to a probability distribution\n",
    "    i=0\n",
    "    while i<10:\n",
    "        i+=1\n",
    "        #Find bounding value of PDF (most probable value)\n",
    "        v_p=np.sqrt(2*8.3144621*T/0.01801528) #M (molar mass of H2O)=18.01528e-3 kg/mol, R(gas constant of H20)=8.3144621 J.mol^-1.K^-1\n",
    "        \n",
    "        #Find probability of obtaining v_p\n",
    "        probv_p=maxwellBoltzmannDistribution(v_p,T)\n",
    "\n",
    "        #Pick an x uniformly in the domain of the PDF (our PDF goes to 0 after 1000)\n",
    "        x=0+(1000-0)*random.random()\n",
    "\n",
    "        #Pick a y uniformly between 0 and v_p\n",
    "        y=probv_p*random.random()\n",
    "\n",
    "        probx=maxwellBoltzmannDistribution(x,T)\n",
    "\n",
    "        if y<probx:\n",
    "            return x\n",
    "    \n",
    "    return x\n",
    "print(getMoleculeVelocity(300))"
   ]
  },
  {
   "cell_type": "code",
   "execution_count": 8,
   "metadata": {},
   "outputs": [
    {
     "name": "stdout",
     "output_type": "stream",
     "text": [
      "1.5410948181509488e-21\n"
     ]
    }
   ],
   "source": [
    "def getKineticEnergy(T):\n",
    "    v=getMoleculeVelocity(T)\n",
    "    m=2.988*10**(-26) #mass of water molecule 2.988e-26 kg\n",
    "    kineticEnergy=(1/2)*m*v**2\n",
    "    return kineticEnergy\n",
    "\n",
    "print(getKineticEnergy(300))"
   ]
  },
  {
   "cell_type": "code",
   "execution_count": 29,
   "metadata": {},
   "outputs": [
    {
     "data": {
      "image/png": "[encoded data removed]",
      "text/plain": [
       "<Figure size 432x288 with 2 Axes>"
      ]
     },
     "metadata": {
      "needs_background": "light"
     },
     "output_type": "display_data"
    },
    {
     "data": {
      "image/png": "[encoded data removed]",
      "text/plain": [
       "<Figure size 432x288 with 1 Axes>"
      ]
     },
     "metadata": {
      "needs_background": "light"
     },
     "output_type": "display_data"
    },
    {
     "data": {
      "image/png": "[encoded data removed]",
      "text/plain": [
       "<Figure size 432x288 with 1 Axes>"
      ]
     },
     "metadata": {
      "needs_background": "light"
     },
     "output_type": "display_data"
    },
    {
     "data": {
      "image/png": "[encoded data removed]",
      "text/plain": [
       "<Figure size 432x288 with 1 Axes>"
      ]
     },
     "metadata": {
      "needs_background": "light"
     },
     "output_type": "display_data"
    },
    {
     "data": {
      "image/png": "[encoded data removed]",
      "text/plain": [
       "<Figure size 432x288 with 1 Axes>"
      ]
     },
     "metadata": {
      "needs_background": "light"
     },
     "output_type": "display_data"
    },
    {
     "data": {
      "image/png": "[encoded data removed]",
      "text/plain": [
       "<Figure size 432x288 with 1 Axes>"
      ]
     },
     "metadata": {
      "needs_background": "light"
     },
     "output_type": "display_data"
    },
    {
     "data": {
      "image/png": "[encoded data removed]",
      "text/plain": [
       "<Figure size 432x288 with 1 Axes>"
      ]
     },
     "metadata": {
      "needs_background": "light"
     },
     "output_type": "display_data"
    },
    {
     "data": {
      "image/png": "[encoded data removed]",
      "text/plain": [
       "<Figure size 432x288 with 1 Axes>"
      ]
     },
     "metadata": {
      "needs_background": "light"
     },
     "output_type": "display_data"
    },
    {
     "data": {
      "image/png": "[encoded data removed]",
      "text/plain": [
       "<Figure size 432x288 with 1 Axes>"
      ]
     },
     "metadata": {
      "needs_background": "light"
     },
     "output_type": "display_data"
    },
    {
     "data": {
      "image/png": "[encoded data removed]",
      "text/plain": [
       "<Figure size 432x288 with 1 Axes>"
      ]
     },
     "metadata": {
      "needs_background": "light"
     },
     "output_type": "display_data"
    },
    {
     "data": {
      "image/png": "[encoded data removed]",
      "text/plain": [
       "<Figure size 432x288 with 1 Axes>"
      ]
     },
     "metadata": {
      "needs_background": "light"
     },
     "output_type": "display_data"
    },
    {
     "data": {
      "image/png": "[encoded data removed]",
      "text/plain": [
       "<Figure size 432x288 with 1 Axes>"
      ]
     },
     "metadata": {
      "needs_background": "light"
     },
     "output_type": "display_data"
    },
    {
     "data": {
      "image/png": "[encoded data removed]",
      "text/plain": [
       "<Figure size 432x288 with 1 Axes>"
      ]
     },
     "metadata": {
      "needs_background": "light"
     },
     "output_type": "display_data"
    },
    {
     "data": {
      "image/png": "[encoded data removed]",
      "text/plain": [
       "<Figure size 432x288 with 1 Axes>"
      ]
     },
     "metadata": {
      "needs_background": "light"
     },
     "output_type": "display_data"
    },
    {
     "data": {
      "image/png": "[encoded data removed]",
      "text/plain": [
       "<Figure size 432x288 with 1 Axes>"
      ]
     },
     "metadata": {
      "needs_background": "light"
     },
     "output_type": "display_data"
    },
    {
     "data": {
      "image/png": "[encoded data removed]",
      "text/plain": [
       "<Figure size 432x288 with 1 Axes>"
      ]
     },
     "metadata": {
      "needs_background": "light"
     },
     "output_type": "display_data"
    },
    {
     "data": {
      "image/png": "[encoded data removed]",
      "text/plain": [
       "<Figure size 432x288 with 1 Axes>"
      ]
     },
     "metadata": {
      "needs_background": "light"
     },
     "output_type": "display_data"
    },
    {
     "data": {
      "image/png": "[encoded data removed]",
      "text/plain": [
       "<Figure size 432x288 with 1 Axes>"
      ]
     },
     "metadata": {
      "needs_background": "light"
     },
     "output_type": "display_data"
    },
    {
     "data": {
      "image/png": "[encoded data removed]",
      "text/plain": [
       "<Figure size 432x288 with 1 Axes>"
      ]
     },
     "metadata": {
      "needs_background": "light"
     },
     "output_type": "display_data"
    },
    {
     "data": {
      "image/png": "[encoded data removed]",
      "text/plain": [
       "<Figure size 432x288 with 1 Axes>"
      ]
     },
     "metadata": {
      "needs_background": "light"
     },
     "output_type": "display_data"
    },
    {
     "data": {
      "image/png": "[encoded data removed]",
      "text/plain": [
       "<Figure size 432x288 with 1 Axes>"
      ]
     },
     "metadata": {
      "needs_background": "light"
     },
     "output_type": "display_data"
    },
    {
     "data": {
      "image/png": "[encoded data removed]",
      "text/plain": [
       "<Figure size 432x288 with 1 Axes>"
      ]
     },
     "metadata": {
      "needs_background": "light"
     },
     "output_type": "display_data"
    },
    {
     "data": {
      "image/png": "[encoded data removed]",
      "text/plain": [
       "<Figure size 432x288 with 1 Axes>"
      ]
     },
     "metadata": {
      "needs_background": "light"
     },
     "output_type": "display_data"
    },
    {
     "data": {
      "image/png": "[encoded data removed]",
      "text/plain": [
       "<Figure size 432x288 with 1 Axes>"
      ]
     },
     "metadata": {
      "needs_background": "light"
     },
     "output_type": "display_data"
    },
    {
     "data": {
      "image/png": "[encoded data removed]",
      "text/plain": [
       "<Figure size 432x288 with 1 Axes>"
      ]
     },
     "metadata": {
      "needs_background": "light"
     },
     "output_type": "display_data"
    },
    {
     "data": {
      "image/png": "[encoded data removed]",
      "text/plain": [
       "<Figure size 432x288 with 1 Axes>"
      ]
     },
     "metadata": {
      "needs_background": "light"
     },
     "output_type": "display_data"
    }
   ],
   "source": [
    "T=300 #Set air temperature\n",
    "N=5 #Size of droplet\n",
    "hydrogenBondEnergy=9.9632*10**(-21) #energy of a hydrogen bond for water molecule\n",
    "#Energy of a hydrogen bond is 6-30 kJ/mol (≈2-12 kBT), (6000-30 000 J/mol => 9.9632e-21 - 4.9816e-20 J per molecule of H_2O)\n",
    "\n",
    "droplet=createDroplet(N)\n",
    "\n",
    "plt.title('Initial Droplet - every square represents a water molecule and is set to 1')\n",
    "plt.imshow(droplet)\n",
    "plt.colorbar()\n",
    "plt.show()\n",
    "\n",
    "direction=0 #0 means right, 1 means down, 2 means left, 3 means up\n",
    "column=0\n",
    "row=0\n",
    "layer=1\n",
    "layer_count=0\n",
    "counter=0\n",
    "iterations=0\n",
    "\n",
    "while (counter<N*N and iterations<1000):\n",
    "    iterations+=1\n",
    "    if droplet[row][column]==1:\n",
    "        kineticEnergy=getKineticEnergy(T)\n",
    "        if kineticEnergy>hydrogenBondEnergy:\n",
    "            droplet[row][column]=0\n",
    "            counter+=1\n",
    "            layer_count+=1\n",
    "            plt.imshow(droplet)\n",
    "            plt.colorb\n",
    "            plt.show()\n",
    "\n",
    "    if direction==0 and column<(N-layer):\n",
    "            column+=1\n",
    "            if column == (N-layer):\n",
    "                direction=1\n",
    "    elif direction==1 and row<(N-layer):\n",
    "            row+=1\n",
    "            if row ==(N-layer):\n",
    "                direction=2\n",
    "    elif direction==2 and column>layer-1:\n",
    "            column-=1\n",
    "            if column == layer-1:\n",
    "                direction=3\n",
    "    elif direction==3 and row>layer-1:\n",
    "            row-=1\n",
    "            if row == layer-1:\n",
    "                direction=0\n",
    "                if (N-(2*(layer-1)))*4-4==layer_count: #if (N-layer+1)*4-4==layer_count:\n",
    "                    row+=1\n",
    "                    layer+=1\n",
    "                    layer_count=0\n",
    "\n",
    "\n"
   ]
  },
  {
   "cell_type": "code",
   "execution_count": 150,
   "metadata": {},
   "outputs": [
    {
     "name": "stdout",
     "output_type": "stream",
     "text": [
      "0 1\n",
      "0 2\n",
      "0 3\n",
      "0 4\n",
      "0 5\n",
      "0 6\n",
      "0 7\n",
      "0 8\n",
      "0 9\n",
      "1 9\n",
      "2 9\n",
      "3 9\n",
      "4 9\n",
      "5 9\n",
      "6 9\n",
      "7 9\n",
      "8 9\n",
      "9 9\n",
      "9 8\n",
      "9 7\n",
      "9 6\n",
      "9 5\n",
      "9 4\n",
      "9 3\n",
      "9 2\n",
      "9 1\n",
      "9 0\n",
      "8 0\n",
      "7 0\n",
      "6 0\n",
      "5 0\n",
      "4 0\n",
      "3 0\n",
      "2 0\n",
      "1 0\n",
      "1 0\n",
      "1 1\n",
      "1 2\n",
      "1 3\n",
      "1 4\n",
      "1 5\n",
      "1 6\n",
      "1 7\n",
      "1 8\n",
      "2 8\n",
      "3 8\n",
      "4 8\n",
      "5 8\n",
      "6 8\n",
      "7 8\n",
      "8 8\n",
      "8 7\n",
      "8 6\n",
      "8 5\n",
      "8 4\n",
      "8 3\n",
      "8 2\n",
      "8 1\n",
      "7 1\n",
      "6 1\n",
      "5 1\n",
      "4 1\n",
      "3 1\n",
      "2 1\n",
      "2 1\n",
      "2 2\n",
      "2 3\n",
      "2 4\n",
      "2 5\n",
      "2 6\n",
      "2 7\n",
      "3 7\n",
      "4 7\n",
      "5 7\n",
      "6 7\n",
      "7 7\n",
      "7 6\n",
      "7 5\n",
      "7 4\n",
      "7 3\n",
      "7 2\n",
      "6 2\n",
      "5 2\n",
      "4 2\n",
      "3 2\n",
      "3 2\n",
      "3 3\n",
      "3 4\n",
      "3 5\n",
      "3 6\n",
      "4 6\n",
      "5 6\n",
      "6 6\n",
      "6 5\n",
      "6 4\n",
      "6 3\n",
      "5 3\n",
      "4 3\n",
      "4 3\n",
      "4 4\n"
     ]
    }
   ],
   "source": [
    "'''\n",
    "direction=0\n",
    "column=0\n",
    "row=0\n",
    "N=10\n",
    "layer=1\n",
    "for i in range(40):\n",
    "    if direction==0 and column<(N-1):\n",
    "            column+=1\n",
    "            if column == (N-1):\n",
    "                direction=1\n",
    "    elif direction==1 and row<(N-1):\n",
    "            row+=1\n",
    "            if row ==(N-1):\n",
    "                direction=2\n",
    "    elif direction==2 and column>0:\n",
    "            column-=1\n",
    "            if column == 0:\n",
    "                direction=3\n",
    "    elif direction==3 and row>0:\n",
    "            row-=1\n",
    "            if row == 0:\n",
    "                direction=0\n",
    "                \n",
    "    print(row, column)\n",
    "'''    \n",
    "direction=0\n",
    "column=0\n",
    "row=0\n",
    "N=10\n",
    "layer=1\n",
    "count=0\n",
    "\n",
    "for i in range(100):\n",
    "    if direction==0 and column<(N-layer):\n",
    "            column+=1\n",
    "            if column == (N-layer):\n",
    "                direction=1\n",
    "    elif direction==1 and row<(N-layer):\n",
    "            row+=1\n",
    "            if row ==(N-layer):\n",
    "                direction=2\n",
    "    elif direction==2 and column>layer-1:\n",
    "            column-=1\n",
    "            if column == layer-1:\n",
    "                direction=3\n",
    "    elif direction==3 and row>layer-1:\n",
    "            row-=1\n",
    "            if row == layer-1:\n",
    "                row+=1\n",
    "                direction=0\n",
    "                layer+=1\n",
    "                \n",
    "    print(row, column)"
   ]
  },
  {
   "cell_type": "code",
   "execution_count": 10,
   "metadata": {},
   "outputs": [
    {
     "name": "stdout",
     "output_type": "stream",
     "text": [
      "526.2258714002461\n"
     ]
    }
   ],
   "source": [
    "v_p=np.sqrt(2*8.3144621*300/0.01801528)\n",
    "print(v_p)"
   ]
  },
  {
   "cell_type": "code",
   "execution_count": 27,
   "metadata": {},
   "outputs": [
    {
     "data": {
      "image/png": "[encoded data removed]",
      "text/plain": [
       "<Figure size 432x288 with 1 Axes>"
      ]
     },
     "metadata": {
      "needs_background": "light"
     },
     "output_type": "display_data"
    }
   ],
   "source": [
    "#Plot of Maxwell-Boltzmann Distribution\n",
    "\n",
    "T=300 #room temperature is 293-298 K\n",
    "k=1.380649*10**(-23) #Boltzmann constant\n",
    "m=2.9915*10**(-23)*10**(-3) #mass of a water molecule in kg\n",
    "\n",
    "\n",
    "x=np.linspace(0,2000,2000)\n",
    "y=np.sqrt(2/np.pi)*(m/(k*T))**(3/2)*x**2*np.exp(-m*x**2/(2*k*T)) #Maxwell-Boltzmann Distribution \n",
    "\n",
    "v_p=int(np.sqrt(2*8.3144621*T/0.01801528)) #Maximum value fo the PDF (most probable velocity)\n",
    "\n",
    "#Plotting the distribution function\n",
    "plt.plot(x,y)\n",
    "plt.title(r'Maxwell-Boltzmann Molecular Speed Distribution for $H_2O$')\n",
    "plt.ylabel('Probability Density')\n",
    "plt.xlabel('Speed (m/s)')\n",
    "\n",
    "#Showing the maximum value v_p\n",
    "xlim,ylim = plt.xlim(), plt.ylim()\n",
    "plt.plot([x[v_p], x[v_p], xlim[0]], [xlim[0], y[v_p], y[v_p]],\n",
    "          linestyle=\"--\")\n",
    "plt.xlim(xlim)\n",
    "plt.ylim(ylim)\n",
    "plt.legend(['For T='+str(T),r'Most probable velocity $v_p$='+str(v_p)])\n",
    "\n",
    "plt.savefig('distributionplot.pdf')"
   ]
  }
 ],
 "metadata": {
  "kernelspec": {
   "display_name": "Python 3",
   "language": "python",
   "name": "python3"
  },
  "language_info": {
   "codemirror_mode": {
    "name": "ipython",
    "version": 3
   },
   "file_extension": ".py",
   "mimetype": "text/x-python",
   "name": "python",
   "nbconvert_exporter": "python",
   "pygments_lexer": "ipython3",
   "version": "3.7.3"
  }
 },
 "nbformat": 4,
 "nbformat_minor": 4
}
